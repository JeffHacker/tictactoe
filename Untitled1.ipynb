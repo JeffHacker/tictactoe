{
 "cells": [
  {
   "cell_type": "code",
   "execution_count": 3,
   "metadata": {
    "collapsed": true
   },
   "outputs": [],
   "source": [
    "__author__ = 'jeffreyhacker'\n",
    "import random\n",
    "import os\n",
    "\n",
    "class Card:\n",
    "\n",
    "    def __init__(self):\n",
    "\n",
    "        card_deck = [('A of clubs', 'A'), ('K of clubs', 10), ('Q of clubs',10), ('J of clubs',10),\n",
    "                    ('10 of clubs',10), ('9 of clubs',9), ('8 of clubs',8), ('7 of clubs', 7),\n",
    "                    ('6 of clubs',6), ('5 of clubs', 5), ('4 of clubs', 4), ('3 of clubs',3),\n",
    "                    ('2 of clubs',2), ('A of hearts','A'), ('K of hearts', 10), ('Q of hearts', 10),\n",
    "                    ('J of hearts',10), ('10 of hearts',10), ('9 of hearts', 9), ('8 of hearts', 8),\n",
    "                    ('7 of hearts', 7), ('6 of hearts', 6), ('5 of hearts', 5), ('4 f hearts', 4),\n",
    "                    ('3 of hearts', 3), ('2 of hearts', 2), ('A of diamonds','A'), ('K of diamonds', 10),\n",
    "                    ('Q of diamonds', 10), ('J of diamonds', 10), ('10 of diamonds', 10),\n",
    "                    ('9 of diamonds', 9), ('8 of diamonds', 8), ('7 of diamonds', 7),\n",
    "                    ('6 of diamonds', 6), ('5 of diamonds', 5), ('4 of diamonds', 4),\n",
    "                    ('3 of diamonds', 3), ('2 of diamonds', 2), ('A of spades','A'), ('K of spades', 10),\n",
    "                    ('Q of spades', 10), ('J of spades', 10), ('10 of spades', 10), ('9 of spades', 9),\n",
    "                    ('8 of spades', 8), ('7 of spades', 7), ('6 of spades', 6), ('5 of spades', 5),\n",
    "                    ('4 of spades', 4), ('3 of spades', 3), ('2 of spades', 2)]\n",
    "        print(card_deck)"
   ]
  },
  {
   "cell_type": "code",
   "execution_count": null,
   "metadata": {
    "collapsed": true
   },
   "outputs": [],
   "source": []
  }
 ],
 "metadata": {
  "kernelspec": {
   "display_name": "Python 3",
   "language": "python",
   "name": "python3"
  },
  "language_info": {
   "codemirror_mode": {
    "name": "ipython",
    "version": 3
   },
   "file_extension": ".py",
   "mimetype": "text/x-python",
   "name": "python",
   "nbconvert_exporter": "python",
   "pygments_lexer": "ipython3",
   "version": "3.4.3"
  }
 },
 "nbformat": 4,
 "nbformat_minor": 0
}
